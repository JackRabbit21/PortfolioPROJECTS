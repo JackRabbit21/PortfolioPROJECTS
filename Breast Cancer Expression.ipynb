{
 "cells": [
  {
   "cell_type": "code",
   "execution_count": 9,
   "id": "6261fcf4",
   "metadata": {},
   "outputs": [
    {
     "name": "stdout",
     "output_type": "stream",
     "text": [
      "Downloading from https://www.kaggle.com/api/v1/datasets/download/raghadalharbi/breast-cancer-gene-expression-profiles-metabric?dataset_version_number=1...\n"
     ]
    },
    {
     "name": "stderr",
     "output_type": "stream",
     "text": [
      "100%|██████████████████████████████████████| 2.72M/2.72M [00:00<00:00, 3.94MB/s]"
     ]
    },
    {
     "name": "stdout",
     "output_type": "stream",
     "text": [
      "Extracting files...\n"
     ]
    },
    {
     "name": "stderr",
     "output_type": "stream",
     "text": [
      "\n"
     ]
    },
    {
     "name": "stdout",
     "output_type": "stream",
     "text": [
      "Path to dataset files: /home/kevin-koshy/.cache/kagglehub/datasets/raghadalharbi/breast-cancer-gene-expression-profiles-metabric/versions/1\n"
     ]
    }
   ],
   "source": [
    "import kagglehub\n",
    "\n",
    "# Download latest version\n",
    "path = kagglehub.dataset_download(\"raghadalharbi/breast-cancer-gene-expression-profiles-metabric\")\n",
    "\n",
    "print(\"Path to dataset files:\", path)"
   ]
  },
  {
   "cell_type": "code",
   "execution_count": 28,
   "id": "5709bf72",
   "metadata": {},
   "outputs": [],
   "source": [
    "import pandas as pd\n",
    "import numpy as np\n",
    "from sklearn.model_selection import train_test_split\n",
    "from sklearn.preprocessing import StandardScaler\n",
    "from sklearn.decomposition import PCA\n",
    "from sklearn.ensemble import RandomForestClassifier\n",
    "from sklearn.svm import SVC\n",
    "from sklearn.metrics import accuracy_score, classification_report, confusion_matrix\n",
    "import matplotlib.pyplot as plt\n",
    "import seaborn as sns\n",
    "from sklearn.preprocessing import MinMaxScaler, StandardScaler, LabelEncoder\n",
    "from sklearn.feature_selection import SelectKBest, f_classif\n"
   ]
  },
  {
   "cell_type": "code",
   "execution_count": 15,
   "id": "137e52ea",
   "metadata": {
    "scrolled": false
   },
   "outputs": [
    {
     "name": "stdout",
     "output_type": "stream",
     "text": [
      "   patient_id  age_at_diagnosis type_of_breast_surgery    cancer_type  \\\n",
      "0           0             75.65             MASTECTOMY  Breast Cancer   \n",
      "1           2             43.19      BREAST CONSERVING  Breast Cancer   \n",
      "2           5             48.87             MASTECTOMY  Breast Cancer   \n",
      "3           6             47.68             MASTECTOMY  Breast Cancer   \n",
      "4           8             76.97             MASTECTOMY  Breast Cancer   \n",
      "\n",
      "                        cancer_type_detailed cellularity  chemotherapy  \\\n",
      "0           Breast Invasive Ductal Carcinoma         NaN             0   \n",
      "1           Breast Invasive Ductal Carcinoma        High             0   \n",
      "2           Breast Invasive Ductal Carcinoma        High             1   \n",
      "3  Breast Mixed Ductal and Lobular Carcinoma    Moderate             1   \n",
      "4  Breast Mixed Ductal and Lobular Carcinoma        High             1   \n",
      "\n",
      "  pam50_+_claudin-low_subtype  cohort er_status_measured_by_ihc  ... mtap_mut  \\\n",
      "0                 claudin-low     1.0                   Positve  ...        0   \n",
      "1                        LumA     1.0                   Positve  ...        0   \n",
      "2                        LumB     1.0                   Positve  ...        0   \n",
      "3                        LumB     1.0                   Positve  ...        0   \n",
      "4                        LumB     1.0                   Positve  ...        0   \n",
      "\n",
      "   ppp2cb_mut smarcd1_mut nras_mut ndfip1_mut  hras_mut prps2_mut smarcb1_mut  \\\n",
      "0           0           0        0          0         0         0           0   \n",
      "1           0           0        0          0         0         0           0   \n",
      "2           0           0        0          0         0         0           0   \n",
      "3           0           0        0          0         0         0           0   \n",
      "4           0           0        0          0         0         0           0   \n",
      "\n",
      "  stmn2_mut  siah1_mut  \n",
      "0         0          0  \n",
      "1         0          0  \n",
      "2         0          0  \n",
      "3         0          0  \n",
      "4         0          0  \n",
      "\n",
      "[5 rows x 693 columns]\n"
     ]
    },
    {
     "name": "stderr",
     "output_type": "stream",
     "text": [
      "/tmp/ipykernel_4417/705624864.py:2: DtypeWarning: Columns (678,688,690,692) have mixed types. Specify dtype option on import or set low_memory=False.\n",
      "  data = pd.read_csv(\"METABRIC_RNA_Mutation.csv\")  # Replace with your file name\n"
     ]
    }
   ],
   "source": [
    "# Load dataset\n",
    "data = pd.read_csv(\"METABRIC_RNA_Mutation.csv\")  # Replace with your file name\n",
    "print(data.head())  # View the first few rows\n"
   ]
  },
  {
   "cell_type": "code",
   "execution_count": 16,
   "id": "5f895b13",
   "metadata": {},
   "outputs": [],
   "source": [
    "data_cleaned = data.dropna()\n"
   ]
  },
  {
   "cell_type": "code",
   "execution_count": 25,
   "id": "e70b6cf3",
   "metadata": {},
   "outputs": [],
   "source": [
    "target_column = 'cancer_type_detailed'  \n",
    "X = data_cleaned.drop(columns=[target_column])\n",
    "y = data_cleaned[target_column]\n"
   ]
  },
  {
   "cell_type": "code",
   "execution_count": 26,
   "id": "792310ee",
   "metadata": {},
   "outputs": [],
   "source": [
    "# Handle categorical columns (use One-Hot Encoding)\n",
    "X_encoded = pd.get_dummies(X, drop_first=True)\n",
    "\n",
    "# Normalize the data\n",
    "scaler = MinMaxScaler()\n",
    "X_normalized = scaler.fit_transform(X_encoded)"
   ]
  },
  {
   "cell_type": "code",
   "execution_count": 30,
   "id": "0e63389a",
   "metadata": {},
   "outputs": [],
   "source": [
    "# Encode target column\n",
    "encoder = LabelEncoder()\n",
    "y_encoded = encoder.fit_transform(y)"
   ]
  },
  {
   "cell_type": "code",
   "execution_count": 31,
   "id": "13cfabe5",
   "metadata": {},
   "outputs": [
    {
     "name": "stdout",
     "output_type": "stream",
     "text": [
      "\n",
      "Selected Features:\n",
      "Index(['cdh1', 'tumor_other_histologic_subtype_Lobular',\n",
      "       'tumor_other_histologic_subtype_Mixed',\n",
      "       'tumor_other_histologic_subtype_Mucinous',\n",
      "       'tumor_other_histologic_subtype_Other', 'oncotree_code_IDC',\n",
      "       'oncotree_code_ILC', 'oncotree_code_IMMC', 'oncotree_code_MDLC',\n",
      "       'tp53_mut_E287*', 'muc16_mut_V8260M', 'ahnak2_mut_S4697L',\n",
      "       'gata3_mut_P432Tfs*75', 'map3k1_mut_I723Yfs*2 H1303del',\n",
      "       'dnah11_mut_S2963Y', 'cdh1_mut_0', 'dnah2_mut_R1486T',\n",
      "       'ryr2_mut_G1497R', 'ryr2_mut_H2819Y', 'tbx3_mut_G194Wfs*33',\n",
      "       'lama2_mut_L1685F', 'ncor2_mut_R2244W', 'col12a1_mut_V2633A',\n",
      "       'pten_mut_E40*', 'atr_mut_D183H', 'atr_mut_R1631H', 'thada_mut_I413T',\n",
      "       'thada_mut_P1294S', 'thada_mut_S275N', 'stab2_mut_R2203C T385N',\n",
      "       'map2k4_mut_W175*', 'lamb3_mut_R988Q', 'ep300_mut_R1821*',\n",
      "       'rb1_mut_L607V', 'myo1a_mut_S1026G', 'fanca_mut_S1226*',\n",
      "       'ctcf_mut_E64*', 'foxo3_mut_X208_splice', 'usp28_mut_D969Y',\n",
      "       'gldc_mut_M394V', 'sbno1_mut_R571Q', 'setdb1_mut_P496S',\n",
      "       'map3k10_mut_A782_P840del', 'map3k10_mut_A884V', 'agmo_mut_D112G',\n",
      "       'prkcq_mut_D61H', 'men1_mut_S38F', 'hdac9_mut_R679Q', 'gh1_mut_A43T',\n",
      "       'nf2_mut_E393K'],\n",
      "      dtype='object')\n",
      "\n",
      "Preprocessed Data:\n",
      "       cdh1  tumor_other_histologic_subtype_Lobular  \\\n",
      "0  0.829076                                     0.0   \n",
      "1  0.746518                                     0.0   \n",
      "2  0.790710                                     0.0   \n",
      "3  0.419061                                     0.0   \n",
      "4  0.298877                                     1.0   \n",
      "\n",
      "   tumor_other_histologic_subtype_Mixed  \\\n",
      "0                                   0.0   \n",
      "1                                   1.0   \n",
      "2                                   0.0   \n",
      "3                                   0.0   \n",
      "4                                   0.0   \n",
      "\n",
      "   tumor_other_histologic_subtype_Mucinous  \\\n",
      "0                                      0.0   \n",
      "1                                      0.0   \n",
      "2                                      0.0   \n",
      "3                                      0.0   \n",
      "4                                      0.0   \n",
      "\n",
      "   tumor_other_histologic_subtype_Other  oncotree_code_IDC  oncotree_code_ILC  \\\n",
      "0                                   0.0                1.0                0.0   \n",
      "1                                   0.0                0.0                0.0   \n",
      "2                                   0.0                1.0                0.0   \n",
      "3                                   0.0                1.0                0.0   \n",
      "4                                   0.0                0.0                1.0   \n",
      "\n",
      "   oncotree_code_IMMC  oncotree_code_MDLC  tp53_mut_E287*  ...  \\\n",
      "0                 0.0                 0.0             0.0  ...   \n",
      "1                 0.0                 1.0             0.0  ...   \n",
      "2                 0.0                 0.0             0.0  ...   \n",
      "3                 0.0                 0.0             0.0  ...   \n",
      "4                 0.0                 0.0             0.0  ...   \n",
      "\n",
      "   sbno1_mut_R571Q  setdb1_mut_P496S  map3k10_mut_A782_P840del  \\\n",
      "0              0.0               0.0                       0.0   \n",
      "1              0.0               0.0                       0.0   \n",
      "2              0.0               0.0                       0.0   \n",
      "3              0.0               0.0                       0.0   \n",
      "4              0.0               0.0                       0.0   \n",
      "\n",
      "   map3k10_mut_A884V  agmo_mut_D112G  prkcq_mut_D61H  men1_mut_S38F  \\\n",
      "0                0.0             0.0             0.0            0.0   \n",
      "1                0.0             0.0             0.0            0.0   \n",
      "2                0.0             0.0             0.0            0.0   \n",
      "3                0.0             0.0             0.0            0.0   \n",
      "4                0.0             0.0             0.0            0.0   \n",
      "\n",
      "   hdac9_mut_R679Q  gh1_mut_A43T  nf2_mut_E393K  \n",
      "0              0.0           0.0            0.0  \n",
      "1              0.0           0.0            0.0  \n",
      "2              0.0           0.0            0.0  \n",
      "3              0.0           0.0            0.0  \n",
      "4              0.0           0.0            0.0  \n",
      "\n",
      "[5 rows x 50 columns]\n"
     ]
    },
    {
     "name": "stderr",
     "output_type": "stream",
     "text": [
      "/home/kevin-koshy/myenv/lib/python3.12/site-packages/sklearn/feature_selection/_univariate_selection.py:112: RuntimeWarning: divide by zero encountered in divide\n",
      "  f = msb / msw\n"
     ]
    }
   ],
   "source": [
    "# Feature selection (select top 50 features)\n",
    "k = 50  # Adjust this value as needed\n",
    "selector = SelectKBest(score_func=f_classif, k=k)\n",
    "X_selected = selector.fit_transform(X_normalized, y)\n",
    "\n",
    "# Get the selected feature names\n",
    "selected_features = X_encoded.columns[selector.get_support()]\n",
    "print(\"\\nSelected Features:\")\n",
    "print(selected_features)\n",
    "\n",
    "# Create a DataFrame for preprocessed data\n",
    "X_preprocessed = pd.DataFrame(X_selected, columns=selected_features)\n",
    "print(\"\\nPreprocessed Data:\")\n",
    "print(X_preprocessed.head())"
   ]
  },
  {
   "cell_type": "code",
   "execution_count": 32,
   "id": "74e385a1",
   "metadata": {},
   "outputs": [],
   "source": [
    "from sklearn.model_selection import train_test_split\n",
    "\n",
    "# Train-Test Split\n",
    "X_train, X_test, y_train, y_test = train_test_split(X_preprocessed, y_encoded, test_size=0.2, random_state=42)\n"
   ]
  },
  {
   "cell_type": "code",
   "execution_count": 33,
   "id": "e801c80a",
   "metadata": {},
   "outputs": [
    {
     "name": "stdout",
     "output_type": "stream",
     "text": [
      "Accuracy: 1.0\n",
      "              precision    recall  f1-score   support\n",
      "\n",
      "           0       1.00      1.00      1.00         1\n",
      "           1       1.00      1.00      1.00       167\n",
      "           2       1.00      1.00      1.00        14\n",
      "           3       1.00      1.00      1.00         3\n",
      "           4       1.00      1.00      1.00        34\n",
      "\n",
      "    accuracy                           1.00       219\n",
      "   macro avg       1.00      1.00      1.00       219\n",
      "weighted avg       1.00      1.00      1.00       219\n",
      "\n"
     ]
    }
   ],
   "source": [
    "from sklearn.ensemble import RandomForestClassifier\n",
    "from sklearn.metrics import accuracy_score, classification_report\n",
    "\n",
    "rf_model = RandomForestClassifier(n_estimators=100, random_state=42)\n",
    "rf_model.fit(X_train, y_train)\n",
    "\n",
    "# Predictions\n",
    "y_pred = rf_model.predict(X_test)\n",
    "\n",
    "# Evaluation\n",
    "print(\"Accuracy:\", accuracy_score(y_test, y_pred))\n",
    "print(classification_report(y_test, y_pred))\n"
   ]
  },
  {
   "cell_type": "code",
   "execution_count": 34,
   "id": "2e595e9b",
   "metadata": {},
   "outputs": [
    {
     "data": {
      "image/png": "[encoded data removed]",
      "text/plain": [
       "<Figure size 640x480 with 2 Axes>"
      ]
     },
     "metadata": {},
     "output_type": "display_data"
    }
   ],
   "source": [
    "import matplotlib.pyplot as plt\n",
    "from sklearn.metrics import ConfusionMatrixDisplay\n",
    "\n",
    "ConfusionMatrixDisplay.from_estimator(rf_model, X_test, y_test, cmap=\"Blues\")\n",
    "plt.title(\"Confusion Matrix\")\n",
    "plt.show()\n"
   ]
  },
  {
   "cell_type": "code",
   "execution_count": null,
   "id": "095af729",
   "metadata": {},
   "outputs": [],
   "source": []
  }
 ],
 "metadata": {
  "kernelspec": {
   "display_name": "Python (myenv)",
   "language": "python",
   "name": "myenv"
  },
  "language_info": {
   "codemirror_mode": {
    "name": "ipython",
    "version": 3
   },
   "file_extension": ".py",
   "mimetype": "text/x-python",
   "name": "python",
   "nbconvert_exporter": "python",
   "pygments_lexer": "ipython3",
   "version": "3.12.8"
  }
 },
 "nbformat": 4,
 "nbformat_minor": 5
}
